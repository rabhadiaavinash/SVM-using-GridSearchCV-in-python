{
 "cells": [
  {
   "cell_type": "markdown",
   "metadata": {},
   "source": [
    "## Project :  Support Vector machine"
   ]
  },
  {
   "cell_type": "code",
   "execution_count": 1,
   "metadata": {
    "collapsed": true
   },
   "outputs": [],
   "source": [
    "import numpy as np\n",
    "import matplotlib.pyplot as plt\n",
    "import pandas as pd"
   ]
  },
  {
   "cell_type": "code",
   "execution_count": 2,
   "metadata": {
    "collapsed": true
   },
   "outputs": [],
   "source": [
    "dataset = pd.read_csv('c:\\Users\\Kishore\\Desktop\\Datasets\\Advertising_data.csv')"
   ]
  },
  {
   "cell_type": "code",
   "execution_count": 3,
   "metadata": {},
   "outputs": [
    {
     "data": {
      "text/html": [
       "<div>\n",
       "<style>\n",
       "    .dataframe thead tr:only-child th {\n",
       "        text-align: right;\n",
       "    }\n",
       "\n",
       "    .dataframe thead th {\n",
       "        text-align: left;\n",
       "    }\n",
       "\n",
       "    .dataframe tbody tr th {\n",
       "        vertical-align: top;\n",
       "    }\n",
       "</style>\n",
       "<table border=\"1\" class=\"dataframe\">\n",
       "  <thead>\n",
       "    <tr style=\"text-align: right;\">\n",
       "      <th></th>\n",
       "      <th>User ID</th>\n",
       "      <th>Gender</th>\n",
       "      <th>Age</th>\n",
       "      <th>EstimatedSalary</th>\n",
       "      <th>Purchased</th>\n",
       "    </tr>\n",
       "  </thead>\n",
       "  <tbody>\n",
       "    <tr>\n",
       "      <th>0</th>\n",
       "      <td>15624510</td>\n",
       "      <td>Male</td>\n",
       "      <td>19.0</td>\n",
       "      <td>19000.0</td>\n",
       "      <td>0</td>\n",
       "    </tr>\n",
       "    <tr>\n",
       "      <th>1</th>\n",
       "      <td>15810944</td>\n",
       "      <td>Male</td>\n",
       "      <td>35.0</td>\n",
       "      <td>20000.0</td>\n",
       "      <td>0</td>\n",
       "    </tr>\n",
       "    <tr>\n",
       "      <th>2</th>\n",
       "      <td>15668575</td>\n",
       "      <td>Female</td>\n",
       "      <td>26.0</td>\n",
       "      <td>43000.0</td>\n",
       "      <td>0</td>\n",
       "    </tr>\n",
       "    <tr>\n",
       "      <th>3</th>\n",
       "      <td>15603246</td>\n",
       "      <td>Female</td>\n",
       "      <td>27.0</td>\n",
       "      <td>57000.0</td>\n",
       "      <td>0</td>\n",
       "    </tr>\n",
       "    <tr>\n",
       "      <th>4</th>\n",
       "      <td>15804002</td>\n",
       "      <td>Male</td>\n",
       "      <td>19.0</td>\n",
       "      <td>76000.0</td>\n",
       "      <td>0</td>\n",
       "    </tr>\n",
       "  </tbody>\n",
       "</table>\n",
       "</div>"
      ],
      "text/plain": [
       "    User ID  Gender   Age  EstimatedSalary  Purchased\n",
       "0  15624510    Male  19.0          19000.0          0\n",
       "1  15810944    Male  35.0          20000.0          0\n",
       "2  15668575  Female  26.0          43000.0          0\n",
       "3  15603246  Female  27.0          57000.0          0\n",
       "4  15804002    Male  19.0          76000.0          0"
      ]
     },
     "execution_count": 3,
     "metadata": {},
     "output_type": "execute_result"
    }
   ],
   "source": [
    "dataset.head()"
   ]
  },
  {
   "cell_type": "code",
   "execution_count": 4,
   "metadata": {
    "collapsed": true
   },
   "outputs": [],
   "source": [
    "X = dataset.iloc[:, [2, 3]]\n",
    "y = dataset.iloc[:, 4]\n",
    "\n"
   ]
  },
  {
   "cell_type": "code",
   "execution_count": 5,
   "metadata": {},
   "outputs": [
    {
     "data": {
      "text/html": [
       "<div>\n",
       "<style>\n",
       "    .dataframe thead tr:only-child th {\n",
       "        text-align: right;\n",
       "    }\n",
       "\n",
       "    .dataframe thead th {\n",
       "        text-align: left;\n",
       "    }\n",
       "\n",
       "    .dataframe tbody tr th {\n",
       "        vertical-align: top;\n",
       "    }\n",
       "</style>\n",
       "<table border=\"1\" class=\"dataframe\">\n",
       "  <thead>\n",
       "    <tr style=\"text-align: right;\">\n",
       "      <th></th>\n",
       "      <th>User ID</th>\n",
       "      <th>Gender</th>\n",
       "      <th>Age</th>\n",
       "      <th>EstimatedSalary</th>\n",
       "      <th>Purchased</th>\n",
       "    </tr>\n",
       "  </thead>\n",
       "  <tbody>\n",
       "    <tr>\n",
       "      <th>0</th>\n",
       "      <td>15624510</td>\n",
       "      <td>Male</td>\n",
       "      <td>19.0</td>\n",
       "      <td>19000.0</td>\n",
       "      <td>0</td>\n",
       "    </tr>\n",
       "    <tr>\n",
       "      <th>1</th>\n",
       "      <td>15810944</td>\n",
       "      <td>Male</td>\n",
       "      <td>35.0</td>\n",
       "      <td>20000.0</td>\n",
       "      <td>0</td>\n",
       "    </tr>\n",
       "    <tr>\n",
       "      <th>2</th>\n",
       "      <td>15668575</td>\n",
       "      <td>Female</td>\n",
       "      <td>26.0</td>\n",
       "      <td>43000.0</td>\n",
       "      <td>0</td>\n",
       "    </tr>\n",
       "    <tr>\n",
       "      <th>3</th>\n",
       "      <td>15603246</td>\n",
       "      <td>Female</td>\n",
       "      <td>27.0</td>\n",
       "      <td>57000.0</td>\n",
       "      <td>0</td>\n",
       "    </tr>\n",
       "    <tr>\n",
       "      <th>4</th>\n",
       "      <td>15804002</td>\n",
       "      <td>Male</td>\n",
       "      <td>19.0</td>\n",
       "      <td>76000.0</td>\n",
       "      <td>0</td>\n",
       "    </tr>\n",
       "  </tbody>\n",
       "</table>\n",
       "</div>"
      ],
      "text/plain": [
       "    User ID  Gender   Age  EstimatedSalary  Purchased\n",
       "0  15624510    Male  19.0          19000.0          0\n",
       "1  15810944    Male  35.0          20000.0          0\n",
       "2  15668575  Female  26.0          43000.0          0\n",
       "3  15603246  Female  27.0          57000.0          0\n",
       "4  15804002    Male  19.0          76000.0          0"
      ]
     },
     "execution_count": 5,
     "metadata": {},
     "output_type": "execute_result"
    }
   ],
   "source": [
    "dataset.head()"
   ]
  },
  {
   "cell_type": "code",
   "execution_count": 6,
   "metadata": {
    "collapsed": true
   },
   "outputs": [],
   "source": [
    "from sklearn.model_selection import train_test_split\n",
    "X_train, X_test, y_train, y_test = train_test_split(X, y, test_size = 0.25, random_state = 5)"
   ]
  },
  {
   "cell_type": "code",
   "execution_count": 7,
   "metadata": {
    "collapsed": true
   },
   "outputs": [],
   "source": [
    "from sklearn.preprocessing import StandardScaler\n",
    "sc = StandardScaler()\n",
    "X_train = sc.fit_transform(X_train)\n",
    "X_test = sc.transform(X_test)"
   ]
  },
  {
   "cell_type": "code",
   "execution_count": 8,
   "metadata": {},
   "outputs": [
    {
     "data": {
      "text/plain": [
       "array([[ 0.77063564, -1.37090753],\n",
       "       [-0.95681661, -0.74731782],\n",
       "       [ 1.25048349, -1.37090753],\n",
       "       [ 0.09884866,  1.09375655],\n",
       "       [-0.28502962, -0.56914934],\n",
       "       [-1.14875575,  0.49986159],\n",
       "       [-1.05278618,  0.44047209],\n",
       "       [-1.14875575,  0.3216931 ],\n",
       "       [ 1.5383922 ,  1.15314605],\n",
       "       [-0.95681661, -0.3018966 ],\n",
       "       [ 2.01824005, -0.80670732],\n",
       "       [ 0.09884866, -0.80670732],\n",
       "       [ 2.01824005,  0.55925109],\n",
       "       [ 0.86660521, -0.53945459],\n",
       "       [-0.28502962,  0.11382987],\n",
       "       [-0.86084704,  0.17321936],\n",
       "       [ 0.2907878 , -0.27220186],\n",
       "       [-0.28502962, -0.27220186],\n",
       "       [ 0.38675737,  2.37063071],\n",
       "       [ 1.73033134,  1.89551474],\n",
       "       [ 0.19481823, -0.24250711],\n",
       "       [ 1.05854435, -1.22243379],\n",
       "       [-0.18906005, -0.56914934],\n",
       "       [ 1.44242263,  0.3810826 ],\n",
       "       [-0.28502962, -1.40060228],\n",
       "       [ 0.96257478, -1.07396005],\n",
       "       [ 1.82630091, -0.27220186],\n",
       "       [-0.28502962,  0.55925109],\n",
       "       [-1.14875575, -1.60846551],\n",
       "       [-1.43666446, -1.45999177],\n",
       "       [-0.09309048, -0.50975984],\n",
       "       [-1.24472532,  0.29199835],\n",
       "       [-0.18906005,  1.68765151],\n",
       "       [ 0.96257478, -1.01457056],\n",
       "       [-0.86084704,  0.3216931 ],\n",
       "       [-1.53263403, -1.51938127],\n",
       "       [ 1.73033134, -0.27220186],\n",
       "       [ 0.96257478,  2.13307273],\n",
       "       [-0.57293833,  1.42039878],\n",
       "       [ 1.5383922 ,  0.02474562],\n",
       "       [-1.05278618, -1.13334955],\n",
       "       [ 0.00287909, -0.56914934],\n",
       "       [ 0.86660521, -1.45999177],\n",
       "       [ 1.34645306,  2.40032546],\n",
       "       [-0.76487747, -0.21281236],\n",
       "       [-1.24472532,  0.52955634],\n",
       "       [-1.91651231, -0.74731782],\n",
       "       [ 0.77063564,  0.3810826 ],\n",
       "       [-1.14875575, -0.50975984],\n",
       "       [ 0.67466608, -1.28182329],\n",
       "       [-1.43666446,  0.3810826 ],\n",
       "       [ 0.57869651,  2.07368323],\n",
       "       [ 0.86660521, -1.37090753],\n",
       "       [-0.28502962, -1.31151803],\n",
       "       [-1.53263403, -0.18311761],\n",
       "       [-1.14875575, -1.01457056],\n",
       "       [-1.82054274,  0.20291411],\n",
       "       [ 0.00287909, -0.4206756 ],\n",
       "       [-0.57293833,  0.49986159],\n",
       "       [-0.86084704,  2.34093596],\n",
       "       [ 0.2907878 , -0.50975984],\n",
       "       [ 1.5383922 ,  1.03436705],\n",
       "       [-0.09309048,  0.3216931 ],\n",
       "       [ 0.86660521,  1.0640618 ],\n",
       "       [-1.72457317,  0.3810826 ],\n",
       "       [ 0.86660521, -1.0442653 ],\n",
       "       [-0.95681661, -0.4206756 ],\n",
       "       [-0.86084704, -1.22243379],\n",
       "       [-0.57293833,  1.95490424],\n",
       "       [ 0.19481823, -0.3612861 ],\n",
       "       [-0.28502962, -0.33159135],\n",
       "       [-0.28502962,  0.64833533],\n",
       "       [-0.76487747, -0.59884408],\n",
       "       [ 0.2907878 , -0.3018966 ],\n",
       "       [ 0.2907878 , -0.53945459],\n",
       "       [-0.28502962, -0.92548631],\n",
       "       [-0.09309048,  0.05444037],\n",
       "       [ 0.38675737,  0.3216931 ],\n",
       "       [-1.53263403, -0.4206756 ],\n",
       "       [ 0.57869651, -0.89579156],\n",
       "       [-1.14875575, -0.77701257],\n",
       "       [-0.28502962, -0.74731782],\n",
       "       [-0.47696876, -1.13334955],\n",
       "       [ 0.67466608, -1.40060228],\n",
       "       [-1.05278618, -0.3612861 ],\n",
       "       [ 1.44242263,  0.08413512],\n",
       "       [ 2.11420962,  0.97497756],\n",
       "       [-0.86084704, -0.77701257],\n",
       "       [ 0.09884866,  1.92520949],\n",
       "       [ 0.09884866,  0.05444037],\n",
       "       [-1.6286036 , -0.03464387],\n",
       "       [ 0.38675737, -0.45037034],\n",
       "       [-0.09309048, -0.21281236],\n",
       "       [-1.14875575,  0.3216931 ],\n",
       "       [-0.28502962, -0.3018966 ],\n",
       "       [ 0.38675737, -0.48006509],\n",
       "       [ 1.82630091,  0.14352462],\n",
       "       [ 0.77063564, -0.3018966 ],\n",
       "       [ 0.2907878 , -0.50975984],\n",
       "       [ 0.00287909, -0.12372812],\n",
       "       [-0.28502962, -0.24250711],\n",
       "       [-1.34069489,  0.58894583],\n",
       "       [ 1.34645306, -0.92548631],\n",
       "       [-0.6689079 ,  1.45009353],\n",
       "       [ 0.19481823, -0.65823358],\n",
       "       [-0.38099919,  0.08413512],\n",
       "       [ 1.05854435,  0.55925109],\n",
       "       [-0.28502962,  0.17321936],\n",
       "       [-0.6689079 ,  0.05444037],\n",
       "       [-1.14875575, -1.54907602],\n",
       "       [-1.72457317, -0.98487581],\n",
       "       [-0.57293833, -1.51938127],\n",
       "       [-1.05278618, -1.54907602],\n",
       "       [ 0.00287909,  1.30161979],\n",
       "       [ 2.01824005,  1.8064305 ],\n",
       "       [-0.18906005, -1.07396005],\n",
       "       [-0.09309048, -1.07396005],\n",
       "       [ 1.05854435, -0.89579156],\n",
       "       [-0.76487747, -1.54907602],\n",
       "       [ 0.67466608, -1.40060228],\n",
       "       [-0.09309048,  0.23260886],\n",
       "       [-0.18906005,  2.22215697],\n",
       "       [ 0.38675737,  0.02474562],\n",
       "       [ 1.92227048,  2.22215697],\n",
       "       [ 0.00287909,  1.27192504],\n",
       "       [ 0.77063564,  0.55925109],\n",
       "       [ 1.82630091,  1.56887252],\n",
       "       [ 1.92227048, -1.37090753],\n",
       "       [-1.05278618,  0.61864058],\n",
       "       [ 0.38675737,  0.11382987],\n",
       "       [ 0.38675737,  1.03436705],\n",
       "       [-0.6689079 , -0.03464387],\n",
       "       [-0.95681661,  0.47016684],\n",
       "       [-0.95681661,  1.59856727],\n",
       "       [ 0.38675737,  0.3216931 ],\n",
       "       [ 1.05854435,  0.58894583],\n",
       "       [ 0.2907878 , -0.18311761],\n",
       "       [ 0.77063564, -1.40060228],\n",
       "       [-0.76487747,  0.29199835],\n",
       "       [-0.18906005,  0.88589331],\n",
       "       [-0.28502962,  0.05444037],\n",
       "       [ 0.77063564, -1.1036548 ],\n",
       "       [-1.82054274, -1.43029703],\n",
       "       [ 1.34645306,  2.04398848],\n",
       "       [-0.28502962, -0.12372812],\n",
       "       [-1.14875575,  0.44047209],\n",
       "       [ 0.77063564, -0.83640207],\n",
       "       [-1.53263403, -1.25212854],\n",
       "       [-0.86084704, -0.77701257],\n",
       "       [-0.6689079 ,  0.20291411],\n",
       "       [-1.05278618, -0.33159135],\n",
       "       [ 0.96257478, -1.19273904],\n",
       "       [ 0.2907878 ,  0.52955634],\n",
       "       [-1.34069489, -1.37090753],\n",
       "       [ 0.2907878 , -0.71762308],\n",
       "       [-0.28502962, -1.45999177],\n",
       "       [ 1.34645306,  0.61864058],\n",
       "       [ 2.11420962,  1.15314605],\n",
       "       [ 0.38675737, -0.12372812],\n",
       "       [-1.82054274,  0.02474562],\n",
       "       [-0.6689079 , -0.33159135],\n",
       "       [ 1.92227048, -0.65823358],\n",
       "       [-1.05278618,  0.55925109],\n",
       "       [-0.38099919,  1.36100928],\n",
       "       [ 0.00287909, -0.24250711],\n",
       "       [ 0.38675737, -0.45037034],\n",
       "       [ 2.01824005, -1.19273904],\n",
       "       [-0.76487747,  0.58894583],\n",
       "       [ 0.2907878 ,  0.29199835],\n",
       "       [-0.09309048,  0.70772483],\n",
       "       [ 0.09884866,  1.92520949],\n",
       "       [-0.28502962, -0.89579156],\n",
       "       [-0.86084704, -0.24250711],\n",
       "       [ 0.86660521,  2.22215697],\n",
       "       [-0.09309048,  0.08413512],\n",
       "       [-1.72457317,  0.3810826 ],\n",
       "       [ 0.09884866, -0.3018966 ],\n",
       "       [ 1.05854435, -0.98487581],\n",
       "       [-0.95681661,  0.29199835],\n",
       "       [-0.95681661,  0.58894583],\n",
       "       [ 0.48272694,  1.89551474],\n",
       "       [ 0.09884866,  0.17321936],\n",
       "       [-0.57293833,  1.50948302],\n",
       "       [-1.24472532,  0.3216931 ],\n",
       "       [-0.18906005, -0.18311761],\n",
       "       [ 2.01824005,  0.20291411],\n",
       "       [-0.18906005,  1.45009353],\n",
       "       [ 0.19481823,  0.17321936],\n",
       "       [ 0.96257478,  0.14352462],\n",
       "       [ 0.19481823, -0.27220186],\n",
       "       [-0.86084704, -0.65823358],\n",
       "       [-0.47696876, -1.22243379],\n",
       "       [ 1.73033134,  1.03436705],\n",
       "       [-1.72457317, -0.59884408],\n",
       "       [-0.28502962,  0.23260886],\n",
       "       [ 0.96257478, -0.83640207],\n",
       "       [ 0.77063564,  0.14352462],\n",
       "       [ 1.44242263,  2.19246222],\n",
       "       [ 0.2907878 ,  0.3216931 ],\n",
       "       [-0.57293833, -1.51938127],\n",
       "       [ 0.00287909, -0.56914934],\n",
       "       [-0.57293833,  0.91558806],\n",
       "       [-1.72457317, -1.37090753],\n",
       "       [-1.24472532, -1.40060228],\n",
       "       [ 0.00287909,  0.05444037],\n",
       "       [-0.28502962, -1.25212854],\n",
       "       [ 1.34645306,  1.33131453],\n",
       "       [-0.09309048, -0.48006509],\n",
       "       [-0.18906005,  0.17321936],\n",
       "       [ 1.05854435, -0.12372812],\n",
       "       [-0.6689079 , -1.51938127],\n",
       "       [-0.28502962,  0.08413512],\n",
       "       [ 2.11420962,  0.41077735],\n",
       "       [-1.14875575, -1.57877077],\n",
       "       [ 1.05854435,  0.49986159],\n",
       "       [ 0.19481823,  0.05444037],\n",
       "       [-1.91651231,  0.49986159],\n",
       "       [ 0.38675737, -0.12372812],\n",
       "       [ 1.05854435, -1.22243379],\n",
       "       [ 0.96257478,  0.61864058],\n",
       "       [ 2.01824005,  0.41077735],\n",
       "       [ 1.44242263,  1.03436705],\n",
       "       [ 0.86660521, -0.77701257],\n",
       "       [ 0.38675737,  0.61864058],\n",
       "       [ 0.09884866,  1.56887252],\n",
       "       [-1.43666446, -1.22243379],\n",
       "       [-1.14875575,  1.45009353],\n",
       "       [-1.6286036 , -1.57877077],\n",
       "       [-1.05278618,  2.01429374],\n",
       "       [ 0.19481823,  1.1234513 ],\n",
       "       [ 0.77063564,  0.29199835],\n",
       "       [-0.47696876, -0.83640207],\n",
       "       [-0.38099919, -0.77701257],\n",
       "       [ 1.5383922 , -1.28182329],\n",
       "       [-0.09309048,  0.29199835],\n",
       "       [-1.14875575,  0.08413512],\n",
       "       [ 0.38675737,  1.15314605],\n",
       "       [ 0.48272694,  1.77673575],\n",
       "       [-1.91651231,  0.3810826 ],\n",
       "       [-0.86084704,  0.41077735],\n",
       "       [ 0.86660521, -1.31151803],\n",
       "       [-0.28502962,  0.17321936],\n",
       "       [ 0.19481823,  0.26230361],\n",
       "       [-0.09309048,  0.26230361],\n",
       "       [-0.95681661,  0.52955634],\n",
       "       [-0.76487747,  1.39070403],\n",
       "       [-0.47696876, -0.77701257],\n",
       "       [ 0.96257478, -1.1630443 ],\n",
       "       [-0.09309048,  0.14352462],\n",
       "       [-1.34069489,  0.44047209],\n",
       "       [ 0.96257478, -1.07396005],\n",
       "       [ 0.00287909,  0.3216931 ],\n",
       "       [-1.43666446, -0.18311761],\n",
       "       [ 1.25048349,  2.28154647],\n",
       "       [ 1.82630091, -1.28182329],\n",
       "       [ 0.2907878 , -1.1630443 ],\n",
       "       [-1.6286036 ,  0.08413512],\n",
       "       [-0.28502962, -0.3612861 ],\n",
       "       [ 0.96257478,  1.83612525],\n",
       "       [ 1.92227048,  0.76711432],\n",
       "       [ 0.96257478,  2.04398848],\n",
       "       [ 1.82630091, -1.07396005],\n",
       "       [-0.6689079 , -1.0442653 ],\n",
       "       [ 1.44242263, -1.0442653 ],\n",
       "       [-0.47696876, -0.00494912],\n",
       "       [ 0.09884866,  0.05444037],\n",
       "       [ 0.2907878 ,  0.08413512],\n",
       "       [ 0.09884866,  0.29199835],\n",
       "       [-1.05278618, -0.33159135],\n",
       "       [-0.38099919, -1.31151803],\n",
       "       [-0.47696876,  2.37063071],\n",
       "       [ 0.96257478,  0.79680907],\n",
       "       [-0.47696876, -0.53945459],\n",
       "       [ 0.86660521, -0.56914934],\n",
       "       [-0.76487747,  1.1234513 ],\n",
       "       [ 1.15451392, -0.74731782],\n",
       "       [-1.05278618,  0.79680907],\n",
       "       [ 0.09884866, -0.24250711],\n",
       "       [-1.34069489, -0.4206756 ],\n",
       "       [-0.6689079 ,  0.14352462],\n",
       "       [-1.34069489, -0.33159135],\n",
       "       [ 0.2907878 ,  0.05444037],\n",
       "       [ 0.86660521, -0.65823358],\n",
       "       [-0.95681661,  0.44047209],\n",
       "       [ 0.86660521, -1.1630443 ],\n",
       "       [-0.76487747,  0.3216931 ],\n",
       "       [-0.09309048, -0.4206756 ],\n",
       "       [ 1.92227048,  0.94528281],\n",
       "       [-0.57293833,  2.40032546],\n",
       "       [ 0.19481823,  2.16276748],\n",
       "       [-1.14875575, -1.1630443 ],\n",
       "       [ 0.00287909, -0.24250711],\n",
       "       [ 0.09884866, -0.80670732],\n",
       "       [ 0.19481823,  0.08413512],\n",
       "       [-1.24472532, -1.07396005],\n",
       "       [-0.47696876,  1.30161979],\n",
       "       [ 0.19481823, -0.3018966 ],\n",
       "       [-0.95681661, -1.1036548 ],\n",
       "       [ 1.63436177,  1.8064305 ],\n",
       "       [ 2.11420962, -1.0442653 ]])"
      ]
     },
     "execution_count": 8,
     "metadata": {},
     "output_type": "execute_result"
    }
   ],
   "source": [
    "X_train"
   ]
  },
  {
   "cell_type": "code",
   "execution_count": 9,
   "metadata": {},
   "outputs": [
    {
     "data": {
      "text/plain": [
       "SVC(C=1.0, cache_size=200, class_weight=None, coef0=0.0,\n",
       "  decision_function_shape='ovr', degree=3, gamma='auto', kernel='linear',\n",
       "  max_iter=-1, probability=False, random_state=0, shrinking=True,\n",
       "  tol=0.001, verbose=False)"
      ]
     },
     "execution_count": 9,
     "metadata": {},
     "output_type": "execute_result"
    }
   ],
   "source": [
    "from sklearn.svm import SVC\n",
    "classifier = SVC(kernel = 'linear', random_state = 0)\n",
    "classifier.fit(X_train, y_train)"
   ]
  },
  {
   "cell_type": "code",
   "execution_count": 10,
   "metadata": {
    "collapsed": true
   },
   "outputs": [],
   "source": [
    "y_pred = classifier.predict(X_test)"
   ]
  },
  {
   "cell_type": "code",
   "execution_count": 11,
   "metadata": {
    "collapsed": true
   },
   "outputs": [],
   "source": [
    "from sklearn.metrics import confusion_matrix\n",
    "cm = confusion_matrix(y_test, y_pred)\n",
    "\n"
   ]
  },
  {
   "cell_type": "code",
   "execution_count": 12,
   "metadata": {
    "collapsed": true
   },
   "outputs": [],
   "source": [
    "from sklearn.metrics import accuracy_score\n",
    "accuracy=accuracy_score(y_test,y_pred)"
   ]
  },
  {
   "cell_type": "code",
   "execution_count": 13,
   "metadata": {},
   "outputs": [
    {
     "data": {
      "text/plain": [
       "0.84999999999999998"
      ]
     },
     "execution_count": 13,
     "metadata": {},
     "output_type": "execute_result"
    }
   ],
   "source": [
    "accuracy"
   ]
  },
  {
   "cell_type": "code",
   "execution_count": 14,
   "metadata": {
    "collapsed": true
   },
   "outputs": [],
   "source": [
    "from sklearn.model_selection import GridSearchCV\n",
    "parameters = [{'C': [1, 10, 100, 1000], 'kernel': ['linear']},\n",
    "              {'C': [1, 10, 100, 1000], 'kernel': ['rbf'], 'gamma': [0.1, 0.2, 0.3, 0.4, 0.5, 0.6, 0.7, 0.8, 0.9]}]\n"
   ]
  },
  {
   "cell_type": "code",
   "execution_count": 15,
   "metadata": {
    "collapsed": true
   },
   "outputs": [],
   "source": [
    "grid_search = GridSearchCV(estimator = classifier,\n",
    "                           param_grid = parameters,\n",
    "                           scoring = 'accuracy',\n",
    "                           cv = 10,\n",
    "                           n_jobs = -1)\n",
    "\n"
   ]
  },
  {
   "cell_type": "code",
   "execution_count": 16,
   "metadata": {
    "collapsed": true
   },
   "outputs": [],
   "source": [
    "grid_search = grid_search.fit(X_train, y_train)\n"
   ]
  },
  {
   "cell_type": "code",
   "execution_count": 17,
   "metadata": {
    "collapsed": true
   },
   "outputs": [],
   "source": [
    "accuracy = grid_search.best_score_\n"
   ]
  },
  {
   "cell_type": "code",
   "execution_count": 18,
   "metadata": {},
   "outputs": [
    {
     "data": {
      "text/plain": [
       "0.91000000000000003"
      ]
     },
     "execution_count": 18,
     "metadata": {},
     "output_type": "execute_result"
    }
   ],
   "source": [
    "accuracy"
   ]
  },
  {
   "cell_type": "code",
   "execution_count": 19,
   "metadata": {},
   "outputs": [
    {
     "data": {
      "text/plain": [
       "{'C': 10, 'gamma': 0.3, 'kernel': 'rbf'}"
      ]
     },
     "execution_count": 19,
     "metadata": {},
     "output_type": "execute_result"
    }
   ],
   "source": [
    "grid_search.best_params_"
   ]
  },
  {
   "cell_type": "code",
   "execution_count": 20,
   "metadata": {},
   "outputs": [
    {
     "data": {
      "text/plain": [
       "SVC(C=10, cache_size=200, class_weight=None, coef0=0.0,\n",
       "  decision_function_shape='ovr', degree=3, gamma=0.3, kernel='rbf',\n",
       "  max_iter=-1, probability=False, random_state=0, shrinking=True,\n",
       "  tol=0.001, verbose=False)"
      ]
     },
     "execution_count": 20,
     "metadata": {},
     "output_type": "execute_result"
    }
   ],
   "source": [
    "grid_search.best_estimator_"
   ]
  },
  {
   "cell_type": "code",
   "execution_count": 21,
   "metadata": {},
   "outputs": [
    {
     "data": {
      "text/plain": [
       "SVC(C=10, cache_size=200, class_weight=None, coef0=0.0,\n",
       "  decision_function_shape='ovr', degree=3, gamma=0.3, kernel='rbf',\n",
       "  max_iter=-1, probability=False, random_state=0, shrinking=True,\n",
       "  tol=0.001, verbose=False)"
      ]
     },
     "execution_count": 21,
     "metadata": {},
     "output_type": "execute_result"
    }
   ],
   "source": [
    "classifier = SVC(C=10, cache_size=200, class_weight=None, coef0=0.0,\n",
    "  decision_function_shape='ovr', degree=3, gamma=0.3, kernel='rbf',\n",
    "  max_iter=-1, probability=False, random_state=0, shrinking=True,\n",
    "  tol=0.001, verbose=False)\n",
    "classifier.fit(X_train, y_train)"
   ]
  },
  {
   "cell_type": "code",
   "execution_count": 22,
   "metadata": {
    "collapsed": true
   },
   "outputs": [],
   "source": [
    "y_pred = classifier.predict(X_test)"
   ]
  },
  {
   "cell_type": "code",
   "execution_count": 23,
   "metadata": {},
   "outputs": [
    {
     "data": {
      "text/plain": [
       "array([1, 0, 0, 0, 0, 0, 0, 0, 0, 0, 1, 0, 0, 0, 0, 0, 1, 0, 0, 0, 1, 0, 1,\n",
       "       0, 0, 0, 0, 1, 1, 0, 1, 0, 1, 0, 0, 1, 0, 0, 0, 0, 1, 0, 1, 0, 0, 1,\n",
       "       0, 0, 1, 1, 1, 0, 0, 0, 0, 0, 1, 1, 1, 1, 0, 1, 0, 0, 0, 1, 0, 0, 1,\n",
       "       1, 1, 1, 0, 1, 1, 0, 0, 0, 0, 1, 1, 1, 1, 0, 0, 1, 0, 0, 0, 0, 0, 1,\n",
       "       0, 0, 0, 0, 0, 1, 1, 1], dtype=int64)"
      ]
     },
     "execution_count": 23,
     "metadata": {},
     "output_type": "execute_result"
    }
   ],
   "source": [
    "y_pred"
   ]
  },
  {
   "cell_type": "code",
   "execution_count": 24,
   "metadata": {},
   "outputs": [
    {
     "data": {
      "text/plain": [
       "array([[61,  5],\n",
       "       [ 2, 32]], dtype=int64)"
      ]
     },
     "execution_count": 24,
     "metadata": {},
     "output_type": "execute_result"
    }
   ],
   "source": [
    "from sklearn.metrics import confusion_matrix\n",
    "cm = confusion_matrix(y_test, y_pred)\n",
    "cm"
   ]
  },
  {
   "cell_type": "code",
   "execution_count": 25,
   "metadata": {
    "collapsed": true
   },
   "outputs": [],
   "source": [
    "from sklearn.metrics import accuracy_score\n",
    "accuracy=accuracy_score(y_test,y_pred)"
   ]
  },
  {
   "cell_type": "code",
   "execution_count": 26,
   "metadata": {},
   "outputs": [
    {
     "data": {
      "text/plain": [
       "0.93000000000000005"
      ]
     },
     "execution_count": 26,
     "metadata": {},
     "output_type": "execute_result"
    }
   ],
   "source": [
    "accuracy"
   ]
  },
  {
   "cell_type": "code",
   "execution_count": null,
   "metadata": {
    "collapsed": true
   },
   "outputs": [],
   "source": []
  },
  {
   "cell_type": "code",
   "execution_count": null,
   "metadata": {
    "collapsed": true
   },
   "outputs": [],
   "source": []
  },
  {
   "cell_type": "code",
   "execution_count": null,
   "metadata": {
    "collapsed": true
   },
   "outputs": [],
   "source": []
  }
 ],
 "metadata": {
  "kernelspec": {
   "display_name": "Python 2",
   "language": "python",
   "name": "python2"
  },
  "language_info": {
   "codemirror_mode": {
    "name": "ipython",
    "version": 2
   },
   "file_extension": ".py",
   "mimetype": "text/x-python",
   "name": "python",
   "nbconvert_exporter": "python",
   "pygments_lexer": "ipython2",
   "version": "2.7.14"
  }
 },
 "nbformat": 4,
 "nbformat_minor": 2
}
